{
 "cells": [
  {
   "cell_type": "code",
   "execution_count": 2,
   "id": "d507a59b-0919-43e0-a930-9ab29a9a5824",
   "metadata": {},
   "outputs": [],
   "source": [
    "import numpy as np\n",
    "import pandas as pd\n",
    "from sklearn.model_selection import train_test_split\n",
    "from sklearn.svm import SVR\n",
    "from sklearn.preprocessing import StandardScaler\n",
    "import joblib\n"
   ]
  },
  {
   "cell_type": "code",
   "execution_count": 3,
   "id": "c1d20acc-d051-463f-b638-99bcdc37d872",
   "metadata": {},
   "outputs": [],
   "source": [
    "# Load the dataset\n",
    "df = pd.read_csv(r'C:\\Users\\Lenovo\\Downloads\\5_6082248782961971303\\measurements.csv')\n"
   ]
  },
  {
   "cell_type": "code",
   "execution_count": 4,
   "id": "83fb5f71-890f-4ec3-b1ee-55d3509b7b24",
   "metadata": {},
   "outputs": [],
   "source": [
    "\n",
    "# Drop unnecessary columns\n",
    "df.drop(['refill gas', 'refill liters', 'specials'], axis=1, inplace=True)\n",
    "\n"
   ]
  },
  {
   "cell_type": "code",
   "execution_count": 5,
   "id": "bddc18d4-754d-488d-9b58-6bbf7305c1c6",
   "metadata": {},
   "outputs": [],
   "source": [
    "# Replace commas with periods for numeric representations\n",
    "for col in df.columns:\n",
    "    if df[col].dtype == 'object':  # Check if the column is of object type (likely string)\n",
    "        df[col] = df[col].str.replace(',', '.', regex=True)\n",
    "\n"
   ]
  },
  {
   "cell_type": "code",
   "execution_count": 6,
   "id": "eeacc7d9-529c-4ae4-8e5d-b278ba09af36",
   "metadata": {},
   "outputs": [],
   "source": [
    "# Convert numeric columns to float after replacing commas\n",
    "for col in df.select_dtypes(include=['object']).columns:\n",
    "    try:\n",
    "        df[col] = df[col].astype(float)\n",
    "    except ValueError:\n",
    "        pass  # Handle columns that cannot be converted to float\n",
    "\n"
   ]
  },
  {
   "cell_type": "code",
   "execution_count": 7,
   "id": "55f15b3d-e0ff-4de6-8219-b533f27b8304",
   "metadata": {},
   "outputs": [],
   "source": [
    "# Fill missing values in 'temp_inside' column with mean\n",
    "temp_inside_mean = df['temp_inside'].mean()\n",
    "df['temp_inside'].fillna(temp_inside_mean, inplace=True)\n",
    "\n"
   ]
  },
  {
   "cell_type": "code",
   "execution_count": 8,
   "id": "6255c646-5887-4df2-9013-d7e2cf1f1aa4",
   "metadata": {},
   "outputs": [],
   "source": [
    "# Convert categorical variable 'gas_type' into dummy variables\n",
    "dum1 = pd.get_dummies(df['gas_type'])\n",
    "df = pd.concat([df, dum1], axis=1)\n",
    "df.drop('gas_type', axis=1, inplace=True)\n",
    "\n"
   ]
  },
  {
   "cell_type": "code",
   "execution_count": 16,
   "id": "f170d7ba-7d64-4917-8c26-bc551e60c72f",
   "metadata": {},
   "outputs": [],
   "source": [
    "# Split the dataset into features and target variables\n",
    "X = df.drop('consume', axis=1).values\n",
    "y = df['consume'].values\n"
   ]
  },
  {
   "cell_type": "code",
   "execution_count": 18,
   "id": "1843a405-5c2f-4882-a9a2-bb1ceea16f0c",
   "metadata": {},
   "outputs": [],
   "source": [
    "\n",
    "# Split the data into training and testing sets\n",
    "X_train, X_test, y_train, y_test = train_test_split(X, y, test_size=0.3, random_state=42)\n",
    "\n"
   ]
  },
  {
   "cell_type": "code",
   "execution_count": 20,
   "id": "b60d42a6-3a8b-462f-9bc9-1ab85e0acda7",
   "metadata": {},
   "outputs": [],
   "source": [
    "# Standardize the features\n",
    "scaler = StandardScaler()\n",
    "X_train = scaler.fit_transform(X_train)\n",
    "X_test = scaler.transform(X_test)\n",
    "\n",
    "# Initialize and train the SVR model\n"
   ]
  },
  {
   "cell_type": "code",
   "execution_count": 22,
   "id": "c0f8110f-f320-44a8-b3a0-0e6173f9ba6a",
   "metadata": {},
   "outputs": [
    {
     "name": "stdout",
     "output_type": "stream",
     "text": [
      "[4.77990258 5.07721109 4.94018841 5.01654957 4.21965606 4.51835006\n",
      " 4.21086644 4.72691851 5.53996424 4.32125479 3.8589806  4.15383898\n",
      " 5.57094308 4.89087915 5.42789678 4.86312391 5.51331186 4.96915044\n",
      " 5.55317572 4.89067815 4.85839581 5.40684072 4.79057918 4.82390843\n",
      " 4.90005575 4.56078529 5.15466682 4.20083827 4.92301164 4.45032467\n",
      " 4.80046587 5.10034626 4.29860958 4.3058639  5.10920463 5.04777843\n",
      " 4.87690193 4.7980434  4.98387536 5.59220948 4.7278098  5.16924669\n",
      " 5.29650134 4.72189317 4.98879965 4.22908914 5.43951538 4.70877601\n",
      " 4.65655089 5.17942052 4.45100712 5.51433484 5.22661471 5.09400251\n",
      " 5.06278669 4.56187448 5.43006578 5.27091041 4.64410892 4.49106791\n",
      " 5.55246294 4.13563151 4.27579343 4.45766044 4.47117526 4.73080685\n",
      " 6.0028091  4.04938846 4.55457238 5.4175077  3.95141601 4.80756384\n",
      " 5.06352606 4.58394514 4.71092584 4.52820403 5.24815048 5.0454755\n",
      " 5.57521249 5.17750744 5.05494953 4.74831211 4.24246237 5.55990791\n",
      " 5.68133772 4.53448092 5.58646407 5.72880072 4.99315696 4.27197455\n",
      " 4.7119189  4.2944381  4.86204006 5.04198071 4.64072819 5.07355467\n",
      " 4.87252206 4.19842748 4.94018841 5.05493093 5.03820544 4.72319222\n",
      " 4.26506185 4.28562699 4.92667165 4.14666423 4.54488131 4.44599155\n",
      " 5.68693537 5.38026516 4.30313518 5.11930746 5.95544635 4.44539257\n",
      " 4.85958229 5.33247016 4.62161218]\n"
     ]
    }
   ],
   "source": [
    "model = SVR()\n",
    "model.fit(X_train, y_train)\n",
    "\n",
    "# Save the model and scaler\n",
    "joblib.dump(model, 'svm_model.pkl')\n",
    "joblib.dump(scaler, 'scaler.pkl')\n",
    "\n",
    "# Example of making predictions\n",
    "y_pred = model.predict(X_test)\n",
    "print(y_pred)"
   ]
  },
  {
   "cell_type": "code",
   "execution_count": null,
   "id": "65c23331-1f7f-4890-a335-456c41a01330",
   "metadata": {},
   "outputs": [],
   "source": []
  },
  {
   "cell_type": "code",
   "execution_count": null,
   "id": "481d79fe-45e6-4ec1-8ba4-bdb19a999874",
   "metadata": {},
   "outputs": [],
   "source": []
  },
  {
   "cell_type": "code",
   "execution_count": null,
   "id": "54d6a4d1-e009-4ac9-8b6c-09d817c8e918",
   "metadata": {},
   "outputs": [],
   "source": []
  }
 ],
 "metadata": {
  "kernelspec": {
   "display_name": "Python 3 (ipykernel)",
   "language": "python",
   "name": "python3"
  },
  "language_info": {
   "codemirror_mode": {
    "name": "ipython",
    "version": 3
   },
   "file_extension": ".py",
   "mimetype": "text/x-python",
   "name": "python",
   "nbconvert_exporter": "python",
   "pygments_lexer": "ipython3",
   "version": "3.11.7"
  }
 },
 "nbformat": 4,
 "nbformat_minor": 5
}
